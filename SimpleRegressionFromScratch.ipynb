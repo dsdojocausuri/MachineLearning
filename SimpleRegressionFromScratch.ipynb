{
  "nbformat": 4,
  "nbformat_minor": 0,
  "metadata": {
    "colab": {
      "provenance": [],
      "authorship_tag": "ABX9TyN/1OU78ojPuf07gudpsRtR",
      "include_colab_link": true
    },
    "kernelspec": {
      "name": "python3",
      "display_name": "Python 3"
    },
    "language_info": {
      "name": "python"
    }
  },
  "cells": [
    {
      "cell_type": "markdown",
      "metadata": {
        "id": "view-in-github",
        "colab_type": "text"
      },
      "source": [
        "<a href=\"https://colab.research.google.com/github/dsdojocausuri/hello-world/blob/master/SimpleRegressionFromScratch.ipynb\" target=\"_parent\"><img src=\"https://colab.research.google.com/assets/colab-badge.svg\" alt=\"Open In Colab\"/></a>"
      ]
    },
    {
      "cell_type": "code",
      "execution_count": 124,
      "metadata": {
        "colab": {
          "base_uri": "https://localhost:8080/",
          "height": 279
        },
        "id": "E0FOlGi8yorA",
        "outputId": "40211b8f-bd4b-46ef-f8f9-41249ded60b9"
      },
      "outputs": [
        {
          "output_type": "display_data",
          "data": {
            "text/plain": [
              "<Figure size 432x288 with 1 Axes>"
            ],
            "image/png": "[encoded data removed]"
          },
          "metadata": {
            "needs_background": "light"
          }
        }
      ],
      "source": [
        "#@title Univariate Linear Regression with Gradient descent method\n",
        "import numpy as np\n",
        "import math\n",
        "import matplotlib.pyplot as plt\n",
        "from sklearn.metrics import mean_squared_error as mse\n",
        "import pandas as pd\n",
        "\n",
        "x = np.array([1.7, 2.4, 2.3, 3.1, 3.7])\n",
        "y = np.array([1.2,1.5,1.9,2.2,2.4])\n",
        "\n",
        "#x = np.array([1.0, 1.7, 2.0, 2.5, 3.0, 3.2])\n",
        "#y = np.array([250, 300, 480,  430,   630, 730])\n",
        "\n",
        "plt.xlabel('square footage (in thousands)')\n",
        "plt.ylabel('price (in thousands)')\n",
        "plt.scatter(x,y)\n",
        "plt.show()"
      ]
    },
    {
      "cell_type": "code",
      "source": [
        "def cost(x, y, m):\n",
        "\n",
        "  b = 1.1\n",
        "  y_pred = []\n",
        "\n",
        "  for i in range(len(x)):\n",
        "    tmp = x[i] * m + b\n",
        "    y_pred.append(tmp)\n",
        "\n",
        "    #print(f'Iter = {i}, tmp = {tmp}, y_pred = {y_pred}')\n",
        "\n",
        "  total_cost = mse(y, y_pred)\n",
        "  #print(f'total cost = {total_cost}')\n",
        "  return total_cost"
      ],
      "metadata": {
        "id": "YB7iKj4_jMax"
      },
      "execution_count": 125,
      "outputs": []
    },
    {
      "cell_type": "code",
      "source": [
        "slope = [i/100 for i in range(0,150)]\n",
        "\n",
        "Err = []\n",
        "for i in slope:\n",
        "  total_cost = cost(x, y, m = i)\n",
        "  Err.append(total_cost)\n",
        "\n",
        "Cost_table = pd.DataFrame({\n",
        "'m' : slope,\n",
        "'Cost' : Err\n",
        "})\n",
        "\n",
        "print(Cost_table)"
      ],
      "metadata": {
        "colab": {
          "base_uri": "https://localhost:8080/"
        },
        "id": "naPTCN-Ft2hN",
        "outputId": "2b3f0b0c-7eeb-4e98-f578-f1e883b1abe7"
      },
      "execution_count": 137,
      "outputs": [
        {
          "output_type": "stream",
          "name": "stdout",
          "text": [
            "        m       Cost\n",
            "0    0.00   0.742000\n",
            "1    0.01   0.697985\n",
            "2    0.02   0.655459\n",
            "3    0.03   0.614423\n",
            "4    0.04   0.574877\n",
            "..    ...        ...\n",
            "145  1.45   9.911220\n",
            "146  1.46  10.083197\n",
            "147  1.47  10.256663\n",
            "148  1.48  10.431619\n",
            "149  1.49  10.608065\n",
            "\n",
            "[150 rows x 2 columns]\n"
          ]
        }
      ]
    },
    {
      "cell_type": "code",
      "source": [
        "plt.plot(Cost_table.m, Cost_table.Cost, color = 'blue', label = 'Cost Function Curve')\n",
        "plt.xlabel('Value of slope, m')\n",
        "plt.ylabel('Cost')\n",
        "plt.ylim(-1,1)\n",
        "plt.legend()"
      ],
      "metadata": {
        "colab": {
          "base_uri": "https://localhost:8080/",
          "height": 300
        },
        "id": "s0y9O9UC7uf6",
        "outputId": "8bb79d86-1173-4b1c-c91e-a6e5b9c9cb94"
      },
      "execution_count": 139,
      "outputs": [
        {
          "output_type": "execute_result",
          "data": {
            "text/plain": [
              "<matplotlib.legend.Legend at 0x7f8ac526d160>"
            ]
          },
          "metadata": {},
          "execution_count": 139
        },
        {
          "output_type": "display_data",
          "data": {
            "text/plain": [
              "<Figure size 432x288 with 1 Axes>"
            ],
            "image/png": "[encoded data removed]"
          },
          "metadata": {
            "needs_background": "light"
          }
        }
      ]
    },
    {
      "cell_type": "code",
      "source": [
        "line = []\n",
        "\n",
        "# generating predictions for every data point\n",
        "for i in range(len(x)):\n",
        "    line.append(x[i]*0.3 + 1.1)\n",
        "plt.scatter(x,y, color = 'red')\n",
        "plt.plot(x, line, color = 'black', label = 'line')"
      ],
      "metadata": {
        "colab": {
          "base_uri": "https://localhost:8080/",
          "height": 282
        },
        "id": "wLNFZYyxJki1",
        "outputId": "722ce583-a2e9-45d8-e5ce-30f4df93cbe9"
      },
      "execution_count": 141,
      "outputs": [
        {
          "output_type": "execute_result",
          "data": {
            "text/plain": [
              "[<matplotlib.lines.Line2D at 0x7f8ac952f0a0>]"
            ]
          },
          "metadata": {},
          "execution_count": 141
        },
        {
          "output_type": "display_data",
          "data": {
            "text/plain": [
              "<Figure size 432x288 with 1 Axes>"
            ],
            "image/png": "[encoded data removed]"
          },
          "metadata": {
            "needs_background": "light"
          }
        }
      ]
    },
    {
      "cell_type": "code",
      "source": [
        "def gradientDescent(x,y, num_iter,learning_rate,c, m):\n",
        "    cost_history = []\n",
        "    m_history = []\n",
        "    c_history = []\n",
        "    \n",
        "    for i in range(num_iter):\n",
        "        y_tmp = m * x + c\n",
        "        cost_func = (1/2*len(x)) * sum(l**2 for l in (y - y_tmp))\n",
        "        m_new = m - learning_rate * - (1/len(x)) * sum(x * (y - y_tmp))\n",
        "        c_new = c - learning_rate * - (1/len(x)) * sum(y - y_tmp)\n",
        "        m = m_new\n",
        "        c = c_new\n",
        "        if i% math.ceil(num_iter/10) == 0:          \n",
        "            print(f\"Iteration {i:4} : Cost {cost_func:0.2e}   \",\n",
        "                  f\"slope: {m_new: 0.3e}, intercept:{c_new: 0.5e}\")\n",
        "        c_history.append(c_new)\n",
        "        m_history.append(m_new)\n",
        "        cost_history.append(cost_func)\n",
        "    return cost_history,m_history,c_history, m,c"
      ],
      "metadata": {
        "id": "DMc8buTIeS5C"
      },
      "execution_count": null,
      "outputs": []
    }
  ]
}